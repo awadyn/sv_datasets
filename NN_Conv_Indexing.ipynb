{
 "cells": [
  {
   "cell_type": "code",
   "execution_count": 1,
   "id": "4cc701ba",
   "metadata": {},
   "outputs": [],
   "source": [
    "import numpy as np\n",
    "import matplotlib.pylab as plt\n",
    "import os\n",
    "\n",
    "import torch\n",
    "import torch.nn as nn\n",
    "import torch.optim as optim"
   ]
  },
  {
   "cell_type": "code",
   "execution_count": 2,
   "id": "6be3f3a1",
   "metadata": {},
   "outputs": [],
   "source": [
    "device = 'cuda:0' if torch.cuda.is_available() else \"cpu\""
   ]
  },
  {
   "cell_type": "markdown",
   "id": "a7fe7d2e",
   "metadata": {},
   "source": [
    "### Generating Synthetic Dataset\n",
    "#### This will reflect how well the network learns indexing."
   ]
  },
  {
   "cell_type": "code",
   "execution_count": 3,
   "id": "e1de66e6",
   "metadata": {},
   "outputs": [],
   "source": [
    "# generate N vectors of 600 bytes\n",
    "# learn indexing into second byte\n",
    "def gen_data(N=5000, d=32, low=0, high=127, target_idx=1):\n",
    "    data = np.random.randint(low=low, high=high, size=(N,d))\n",
    "    return data, data[:, target_idx]"
   ]
  },
  {
   "cell_type": "code",
   "execution_count": 159,
   "id": "6c062a67",
   "metadata": {},
   "outputs": [
    {
     "name": "stdout",
     "output_type": "stream",
     "text": [
      "[[  2 105  31  45  78 121  48  82  57 106  16   6  23  90  88  63  58  97\n",
      "   25  64  15  39 107  83  20  45   6 101  43   6  11  10]\n",
      " [ 81   2  55  78 109   7  73  19   9 124  22  88  76 113  89  31  68   9\n",
      "    2  61 110 124 124  83  34  89  29  69 116  25  82 108]\n",
      " [ 87  92  61  44  55  62  99  28 119  80  25 122 102  38 124  49  54  81\n",
      "   50  85  27  81  86  30  25  53   6  65   0  91  76 119]]\n",
      "[105   2  92]\n",
      "[[ 15   8  45  17  21 110 113  12  79  33  76  82  94  60 108  54 122 122\n",
      "   22 105  69  23  35  63  97  12  90  86  29  88  11 109]\n",
      " [ 61  46  13   4   7   8  67  67  33 101  93  89  17  11  49  68   9  70\n",
      "   13 114  78   8   3  50  83 125  75  45  10 103  67  97]\n",
      " [ 38   0  77 108  18  47  75  69  77  66 124  49  11  45 112  68  10  73\n",
      "  110 111  39  60  79  66  65 119  42  39 115  74  29  88]]\n",
      "[ 8 46  0]\n"
     ]
    }
   ],
   "source": [
    "data = gen_data()\n",
    "#print(data)\n",
    "features = data[0]\n",
    "print(features[0:3])\n",
    "labels = data[1]\n",
    "print(labels[0:3])\n",
    "test_data = gen_data(N=500)\n",
    "features_test = test_data[0]\n",
    "print(features_test[0:3])\n",
    "labels_test = test_data[1]\n",
    "print(labels_test[0:3])"
   ]
  },
  {
   "cell_type": "markdown",
   "id": "4befb36b",
   "metadata": {},
   "source": [
    "### Defining Conv. NN"
   ]
  },
  {
   "cell_type": "code",
   "execution_count": 160,
   "id": "9a3edc5c",
   "metadata": {},
   "outputs": [],
   "source": [
    "net = nn.Sequential(nn.Conv2d(1, 8, kernel_size=(1,3), stride=1),\n",
    "                    nn.ReLU(),\n",
    "                    nn.Conv2d(8, 16, kernel_size=(1,3), stride=1),\n",
    "                    nn.ReLU(),\n",
    "                    nn.Conv2d(16, 32, kernel_size=(1,3), stride=1),\n",
    "                    nn.ReLU(),\n",
    "                    nn.Flatten(start_dim=1, end_dim=-1),\n",
    "                   )"
   ]
  },
  {
   "cell_type": "code",
   "execution_count": 161,
   "id": "68b2df9e",
   "metadata": {
    "scrolled": true
   },
   "outputs": [
    {
     "data": {
      "text/plain": [
       "torch.Size([1, 832])"
      ]
     },
     "execution_count": 161,
     "metadata": {},
     "output_type": "execute_result"
    }
   ],
   "source": [
    "net(torch.from_numpy(features[0]).unsqueeze(0).unsqueeze(0).unsqueeze(0).float()).shape "
   ]
  },
  {
   "cell_type": "code",
   "execution_count": 175,
   "id": "f49f55e5",
   "metadata": {},
   "outputs": [],
   "source": [
    "net = nn.Sequential(nn.Conv2d(1, 8, kernel_size=(1,3), stride=1),\n",
    "                    nn.ReLU(),\n",
    "                    nn.Conv2d(8, 16, kernel_size=(1,3), stride=1),\n",
    "                    nn.ReLU(),\n",
    "                    nn.Conv2d(16, 32, kernel_size=(1,3), stride=1),\n",
    "                    nn.ReLU(),\n",
    "                    nn.Flatten(start_dim=1, end_dim=-1),\n",
    "                    nn.Linear(832, 127)\n",
    "                   )"
   ]
  },
  {
   "cell_type": "code",
   "execution_count": 176,
   "id": "cbe3cef6",
   "metadata": {},
   "outputs": [],
   "source": [
    "# error between real and predicted 2 16-bit values\n",
    "criterion = nn.CrossEntropyLoss()\n",
    "#criterion = nn.MSELoss()"
   ]
  },
  {
   "cell_type": "code",
   "execution_count": 177,
   "id": "648990c6",
   "metadata": {},
   "outputs": [],
   "source": [
    "optimizer = optim.Adam(net.parameters(), lr=1e-4)"
   ]
  },
  {
   "cell_type": "markdown",
   "id": "e601b895",
   "metadata": {},
   "source": [
    "### Training and Validation"
   ]
  },
  {
   "cell_type": "code",
   "execution_count": 178,
   "id": "1abaaff3",
   "metadata": {},
   "outputs": [],
   "source": [
    "def validate(net, test_data, test_target, net_type=None):\n",
    "    net = net.eval()\n",
    "    with torch.no_grad():\n",
    "        test_data_torch = torch.from_numpy(test_data).float().to(device)\n",
    "        test_target_torch = torch.from_numpy(test_target).float().to(device)\n",
    "\n",
    "        if net_type=='conv':\n",
    "            test_data_torch = test_data_torch.unsqueeze(1).unsqueeze(2)\n",
    "\n",
    "        test_pred = net(test_data_torch).argmax(dim=1)\n",
    "        test_accuracy = (test_target_torch == test_pred).float().mean().to('cpu').detach().numpy()\n",
    "\n",
    "        #test_pred = np.rint(net(test_data_torch).detach().numpy())\n",
    "        #test_pred = net(test_data_torch).detach().numpy()\n",
    "        #test_accuracy = (test_target_torch.detach().numpy() == test_pred).mean()\n",
    "\n",
    "        test_rmse = (np.sqrt((test_pred-test_target_torch.detach().numpy())**2).mean())\n",
    "\n",
    "    return test_accuracy, test_rmse\n",
    "\n",
    "def train_net(net, train_data, train_target, test_data, test_target, N_epochs=10, print_freq=100, net_type=None):\n",
    "    net = net.to(device)\n",
    "    train_data_torch = torch.from_numpy(train_data).float().to(device)\n",
    "    train_target_torch = torch.from_numpy(train_target).to(device)\n",
    "    \n",
    "    if net_type=='conv':\n",
    "        train_data_torch = train_data_torch.unsqueeze(1).unsqueeze(2)\n",
    "\n",
    "    net = net.train()\n",
    "    for i in range(N_epochs):\n",
    "        #pred = net(train_data_torch.float())\n",
    "        #loss = criterion(pred, train_target_torch.float())\n",
    "        pred = net(train_data_torch)\n",
    "        loss = criterion(pred, train_target_torch)\n",
    "        optimizer.zero_grad()\n",
    "        loss.backward()\n",
    "        optimizer.step()\n",
    "\n",
    "        if i % print_freq == 0:\n",
    "            train_accuracy, train_rmse = validate(net, train_data, train_target, net_type=net_type)\n",
    "            test_accuracy, test_rmse = validate(net, test_data, test_target, net_type=net_type)\n",
    "            net = net.train()\n",
    "            #pred = pred.detach().numpy()\n",
    "            #print(\"pred: \", pred[i], \"target: \", train_target[i])\n",
    "            print(f'Epoch = {i} loss={loss} train_acc = {train_accuracy:.3f} test_acc = {test_accuracy:.3f} train_rmse = {train_rmse:.3f}  test_rmse = {test_rmse:.3f}')\n",
    "            \n",
    "    return net"
   ]
  },
  {
   "cell_type": "code",
   "execution_count": 179,
   "id": "5f43c88d",
   "metadata": {
    "scrolled": true
   },
   "outputs": [
    {
     "name": "stdout",
     "output_type": "stream",
     "text": [
      "Epoch = 0 loss=5.689403533935547 train_acc = 0.007 test_acc = 0.004 train_rmse = 37.460  test_rmse = 36.148\n",
      "Epoch = 10 loss=5.132148742675781 train_acc = 0.011 test_acc = 0.010 train_rmse = 39.927  test_rmse = 39.478\n",
      "Epoch = 20 loss=4.987150192260742 train_acc = 0.012 test_acc = 0.012 train_rmse = 43.177  test_rmse = 42.106\n",
      "Epoch = 30 loss=4.89721155166626 train_acc = 0.018 test_acc = 0.016 train_rmse = 41.873  test_rmse = 42.172\n",
      "Epoch = 40 loss=4.81852912902832 train_acc = 0.019 test_acc = 0.016 train_rmse = 40.435  test_rmse = 40.908\n",
      "Epoch = 50 loss=4.74665641784668 train_acc = 0.024 test_acc = 0.012 train_rmse = 39.693  test_rmse = 40.590\n",
      "Epoch = 60 loss=4.67628812789917 train_acc = 0.033 test_acc = 0.010 train_rmse = 38.809  test_rmse = 40.546\n",
      "Epoch = 70 loss=4.605659484863281 train_acc = 0.042 test_acc = 0.010 train_rmse = 37.377  test_rmse = 39.946\n",
      "Epoch = 80 loss=4.533350944519043 train_acc = 0.053 test_acc = 0.010 train_rmse = 35.833  test_rmse = 38.678\n",
      "Epoch = 90 loss=4.459099292755127 train_acc = 0.064 test_acc = 0.010 train_rmse = 34.520  test_rmse = 36.902\n",
      "Epoch = 100 loss=4.382768154144287 train_acc = 0.076 test_acc = 0.014 train_rmse = 33.464  test_rmse = 35.874\n",
      "Epoch = 110 loss=4.304831027984619 train_acc = 0.089 test_acc = 0.014 train_rmse = 31.739  test_rmse = 34.808\n",
      "Epoch = 120 loss=4.225503444671631 train_acc = 0.100 test_acc = 0.012 train_rmse = 30.974  test_rmse = 33.448\n",
      "Epoch = 130 loss=4.144931793212891 train_acc = 0.113 test_acc = 0.012 train_rmse = 29.993  test_rmse = 32.100\n",
      "Epoch = 140 loss=4.063034534454346 train_acc = 0.126 test_acc = 0.014 train_rmse = 28.890  test_rmse = 30.622\n",
      "Epoch = 150 loss=3.9801628589630127 train_acc = 0.137 test_acc = 0.014 train_rmse = 27.994  test_rmse = 30.144\n",
      "Epoch = 160 loss=3.896366834640503 train_acc = 0.152 test_acc = 0.012 train_rmse = 26.923  test_rmse = 30.114\n",
      "Epoch = 170 loss=3.811744451522827 train_acc = 0.164 test_acc = 0.012 train_rmse = 26.040  test_rmse = 29.944\n",
      "Epoch = 180 loss=3.7262651920318604 train_acc = 0.177 test_acc = 0.014 train_rmse = 25.421  test_rmse = 29.018\n",
      "Epoch = 190 loss=3.6401078701019287 train_acc = 0.195 test_acc = 0.012 train_rmse = 24.275  test_rmse = 28.742\n",
      "Epoch = 200 loss=3.5533359050750732 train_acc = 0.216 test_acc = 0.012 train_rmse = 23.239  test_rmse = 28.166\n",
      "Epoch = 210 loss=3.4660441875457764 train_acc = 0.231 test_acc = 0.012 train_rmse = 22.200  test_rmse = 27.338\n",
      "Epoch = 220 loss=3.378337860107422 train_acc = 0.246 test_acc = 0.014 train_rmse = 21.454  test_rmse = 26.862\n",
      "Epoch = 230 loss=3.29030704498291 train_acc = 0.260 test_acc = 0.014 train_rmse = 20.695  test_rmse = 26.608\n",
      "Epoch = 240 loss=3.2020621299743652 train_acc = 0.278 test_acc = 0.012 train_rmse = 19.836  test_rmse = 25.596\n",
      "Epoch = 250 loss=3.1135404109954834 train_acc = 0.297 test_acc = 0.012 train_rmse = 18.989  test_rmse = 25.394\n",
      "Epoch = 260 loss=3.0247743129730225 train_acc = 0.314 test_acc = 0.012 train_rmse = 18.197  test_rmse = 25.400\n",
      "Epoch = 270 loss=2.935837984085083 train_acc = 0.331 test_acc = 0.012 train_rmse = 17.384  test_rmse = 25.328\n",
      "Epoch = 280 loss=2.846830129623413 train_acc = 0.348 test_acc = 0.012 train_rmse = 16.810  test_rmse = 24.566\n",
      "Epoch = 290 loss=2.7578001022338867 train_acc = 0.368 test_acc = 0.012 train_rmse = 16.006  test_rmse = 24.448\n",
      "Epoch = 300 loss=2.6686899662017822 train_acc = 0.394 test_acc = 0.012 train_rmse = 15.169  test_rmse = 24.648\n",
      "Epoch = 310 loss=2.5794827938079834 train_acc = 0.417 test_acc = 0.012 train_rmse = 14.362  test_rmse = 24.106\n",
      "Epoch = 320 loss=2.490269899368286 train_acc = 0.443 test_acc = 0.012 train_rmse = 13.603  test_rmse = 23.720\n",
      "Epoch = 330 loss=2.4011497497558594 train_acc = 0.469 test_acc = 0.014 train_rmse = 12.837  test_rmse = 23.728\n",
      "Epoch = 340 loss=2.3121914863586426 train_acc = 0.491 test_acc = 0.014 train_rmse = 12.122  test_rmse = 23.892\n",
      "Epoch = 350 loss=2.2234249114990234 train_acc = 0.517 test_acc = 0.014 train_rmse = 11.416  test_rmse = 23.770\n",
      "Epoch = 360 loss=2.134967088699341 train_acc = 0.538 test_acc = 0.014 train_rmse = 10.763  test_rmse = 23.722\n",
      "Epoch = 370 loss=2.046957492828369 train_acc = 0.563 test_acc = 0.014 train_rmse = 10.208  test_rmse = 24.062\n",
      "Epoch = 380 loss=1.95956289768219 train_acc = 0.590 test_acc = 0.012 train_rmse = 9.570  test_rmse = 24.016\n",
      "Epoch = 390 loss=1.8728073835372925 train_acc = 0.616 test_acc = 0.012 train_rmse = 8.937  test_rmse = 23.556\n",
      "Epoch = 400 loss=1.786754846572876 train_acc = 0.640 test_acc = 0.012 train_rmse = 8.364  test_rmse = 23.350\n",
      "Epoch = 410 loss=1.7017011642456055 train_acc = 0.664 test_acc = 0.014 train_rmse = 7.773  test_rmse = 22.996\n",
      "Epoch = 420 loss=1.6177815198898315 train_acc = 0.691 test_acc = 0.014 train_rmse = 7.101  test_rmse = 22.918\n",
      "Epoch = 430 loss=1.5351054668426514 train_acc = 0.717 test_acc = 0.012 train_rmse = 6.458  test_rmse = 22.734\n",
      "Epoch = 440 loss=1.453966736793518 train_acc = 0.748 test_acc = 0.012 train_rmse = 5.726  test_rmse = 22.826\n",
      "Epoch = 450 loss=1.374375820159912 train_acc = 0.771 test_acc = 0.010 train_rmse = 5.187  test_rmse = 23.000\n",
      "Epoch = 460 loss=1.2965912818908691 train_acc = 0.793 test_acc = 0.008 train_rmse = 4.690  test_rmse = 22.976\n",
      "Epoch = 470 loss=1.2207564115524292 train_acc = 0.817 test_acc = 0.006 train_rmse = 4.148  test_rmse = 23.022\n",
      "Epoch = 480 loss=1.1470037698745728 train_acc = 0.836 test_acc = 0.006 train_rmse = 3.740  test_rmse = 22.472\n",
      "Epoch = 490 loss=1.0755172967910767 train_acc = 0.856 test_acc = 0.008 train_rmse = 3.335  test_rmse = 22.188\n",
      "Epoch = 500 loss=1.0064517259597778 train_acc = 0.876 test_acc = 0.008 train_rmse = 2.878  test_rmse = 21.978\n",
      "Epoch = 510 loss=0.9398794174194336 train_acc = 0.897 test_acc = 0.010 train_rmse = 2.338  test_rmse = 21.702\n",
      "Epoch = 520 loss=0.875937283039093 train_acc = 0.915 test_acc = 0.012 train_rmse = 1.948  test_rmse = 21.538\n",
      "Epoch = 530 loss=0.8148142099380493 train_acc = 0.929 test_acc = 0.014 train_rmse = 1.595  test_rmse = 21.520\n",
      "Epoch = 540 loss=0.7566414475440979 train_acc = 0.943 test_acc = 0.014 train_rmse = 1.252  test_rmse = 21.128\n",
      "Epoch = 550 loss=0.7015174627304077 train_acc = 0.955 test_acc = 0.014 train_rmse = 0.947  test_rmse = 20.932\n",
      "Epoch = 560 loss=0.6495324969291687 train_acc = 0.966 test_acc = 0.014 train_rmse = 0.720  test_rmse = 20.566\n"
     ]
    },
    {
     "ename": "KeyboardInterrupt",
     "evalue": "",
     "output_type": "error",
     "traceback": [
      "\u001b[0;31m---------------------------------------------------------------------------\u001b[0m",
      "\u001b[0;31mKeyboardInterrupt\u001b[0m                         Traceback (most recent call last)",
      "Input \u001b[0;32mIn [179]\u001b[0m, in \u001b[0;36m<cell line: 1>\u001b[0;34m()\u001b[0m\n\u001b[0;32m----> 1\u001b[0m net \u001b[38;5;241m=\u001b[39m \u001b[43mtrain_net\u001b[49m\u001b[43m(\u001b[49m\u001b[43mnet\u001b[49m\u001b[43m,\u001b[49m\u001b[43m \u001b[49m\u001b[43mfeatures\u001b[49m\u001b[43m,\u001b[49m\u001b[43m \u001b[49m\u001b[43mlabels\u001b[49m\u001b[43m,\u001b[49m\u001b[43m \u001b[49m\u001b[43mfeatures_test\u001b[49m\u001b[43m,\u001b[49m\u001b[43m \u001b[49m\u001b[43mlabels_test\u001b[49m\u001b[43m,\u001b[49m\u001b[43m \u001b[49m\u001b[43mN_epochs\u001b[49m\u001b[38;5;241;43m=\u001b[39;49m\u001b[38;5;241;43m1000\u001b[39;49m\u001b[43m,\u001b[49m\u001b[43m \u001b[49m\u001b[43mprint_freq\u001b[49m\u001b[38;5;241;43m=\u001b[39;49m\u001b[38;5;241;43m10\u001b[39;49m\u001b[43m,\u001b[49m\u001b[43m \u001b[49m\u001b[43mnet_type\u001b[49m\u001b[38;5;241;43m=\u001b[39;49m\u001b[38;5;124;43m'\u001b[39;49m\u001b[38;5;124;43mconv\u001b[39;49m\u001b[38;5;124;43m'\u001b[39;49m\u001b[43m)\u001b[49m\n\u001b[1;32m      3\u001b[0m torch\u001b[38;5;241m.\u001b[39msave(net, \u001b[38;5;124m\"\u001b[39m\u001b[38;5;124mconv_0\u001b[39m\u001b[38;5;124m\"\u001b[39m)\n",
      "Input \u001b[0;32mIn [178]\u001b[0m, in \u001b[0;36mtrain_net\u001b[0;34m(net, train_data, train_target, test_data, test_target, N_epochs, print_freq, net_type)\u001b[0m\n\u001b[1;32m     34\u001b[0m loss \u001b[38;5;241m=\u001b[39m criterion(pred, train_target_torch)\n\u001b[1;32m     35\u001b[0m optimizer\u001b[38;5;241m.\u001b[39mzero_grad()\n\u001b[0;32m---> 36\u001b[0m \u001b[43mloss\u001b[49m\u001b[38;5;241;43m.\u001b[39;49m\u001b[43mbackward\u001b[49m\u001b[43m(\u001b[49m\u001b[43m)\u001b[49m\n\u001b[1;32m     37\u001b[0m optimizer\u001b[38;5;241m.\u001b[39mstep()\n\u001b[1;32m     39\u001b[0m \u001b[38;5;28;01mif\u001b[39;00m i \u001b[38;5;241m%\u001b[39m print_freq \u001b[38;5;241m==\u001b[39m \u001b[38;5;241m0\u001b[39m:\n",
      "File \u001b[0;32m~/.local/lib/python3.9/site-packages/torch/_tensor.py:307\u001b[0m, in \u001b[0;36mTensor.backward\u001b[0;34m(self, gradient, retain_graph, create_graph, inputs)\u001b[0m\n\u001b[1;32m    298\u001b[0m \u001b[38;5;28;01mif\u001b[39;00m has_torch_function_unary(\u001b[38;5;28mself\u001b[39m):\n\u001b[1;32m    299\u001b[0m     \u001b[38;5;28;01mreturn\u001b[39;00m handle_torch_function(\n\u001b[1;32m    300\u001b[0m         Tensor\u001b[38;5;241m.\u001b[39mbackward,\n\u001b[1;32m    301\u001b[0m         (\u001b[38;5;28mself\u001b[39m,),\n\u001b[0;32m   (...)\u001b[0m\n\u001b[1;32m    305\u001b[0m         create_graph\u001b[38;5;241m=\u001b[39mcreate_graph,\n\u001b[1;32m    306\u001b[0m         inputs\u001b[38;5;241m=\u001b[39minputs)\n\u001b[0;32m--> 307\u001b[0m \u001b[43mtorch\u001b[49m\u001b[38;5;241;43m.\u001b[39;49m\u001b[43mautograd\u001b[49m\u001b[38;5;241;43m.\u001b[39;49m\u001b[43mbackward\u001b[49m\u001b[43m(\u001b[49m\u001b[38;5;28;43mself\u001b[39;49m\u001b[43m,\u001b[49m\u001b[43m \u001b[49m\u001b[43mgradient\u001b[49m\u001b[43m,\u001b[49m\u001b[43m \u001b[49m\u001b[43mretain_graph\u001b[49m\u001b[43m,\u001b[49m\u001b[43m \u001b[49m\u001b[43mcreate_graph\u001b[49m\u001b[43m,\u001b[49m\u001b[43m \u001b[49m\u001b[43minputs\u001b[49m\u001b[38;5;241;43m=\u001b[39;49m\u001b[43minputs\u001b[49m\u001b[43m)\u001b[49m\n",
      "File \u001b[0;32m~/.local/lib/python3.9/site-packages/torch/autograd/__init__.py:154\u001b[0m, in \u001b[0;36mbackward\u001b[0;34m(tensors, grad_tensors, retain_graph, create_graph, grad_variables, inputs)\u001b[0m\n\u001b[1;32m    151\u001b[0m \u001b[38;5;28;01mif\u001b[39;00m retain_graph \u001b[38;5;129;01mis\u001b[39;00m \u001b[38;5;28;01mNone\u001b[39;00m:\n\u001b[1;32m    152\u001b[0m     retain_graph \u001b[38;5;241m=\u001b[39m create_graph\n\u001b[0;32m--> 154\u001b[0m \u001b[43mVariable\u001b[49m\u001b[38;5;241;43m.\u001b[39;49m\u001b[43m_execution_engine\u001b[49m\u001b[38;5;241;43m.\u001b[39;49m\u001b[43mrun_backward\u001b[49m\u001b[43m(\u001b[49m\n\u001b[1;32m    155\u001b[0m \u001b[43m    \u001b[49m\u001b[43mtensors\u001b[49m\u001b[43m,\u001b[49m\u001b[43m \u001b[49m\u001b[43mgrad_tensors_\u001b[49m\u001b[43m,\u001b[49m\u001b[43m \u001b[49m\u001b[43mretain_graph\u001b[49m\u001b[43m,\u001b[49m\u001b[43m \u001b[49m\u001b[43mcreate_graph\u001b[49m\u001b[43m,\u001b[49m\u001b[43m \u001b[49m\u001b[43minputs\u001b[49m\u001b[43m,\u001b[49m\n\u001b[1;32m    156\u001b[0m \u001b[43m    \u001b[49m\u001b[43mallow_unreachable\u001b[49m\u001b[38;5;241;43m=\u001b[39;49m\u001b[38;5;28;43;01mTrue\u001b[39;49;00m\u001b[43m,\u001b[49m\u001b[43m \u001b[49m\u001b[43maccumulate_grad\u001b[49m\u001b[38;5;241;43m=\u001b[39;49m\u001b[38;5;28;43;01mTrue\u001b[39;49;00m\u001b[43m)\u001b[49m\n",
      "\u001b[0;31mKeyboardInterrupt\u001b[0m: "
     ]
    }
   ],
   "source": [
    "net = train_net(net, features, labels, features_test, labels_test, N_epochs=1000, print_freq=10, net_type='conv')\n",
    "\n",
    "torch.save(net, \"conv_0\")"
   ]
  },
  {
   "cell_type": "code",
   "execution_count": null,
   "id": "6ad0abc9",
   "metadata": {},
   "outputs": [],
   "source": []
  },
  {
   "cell_type": "code",
   "execution_count": null,
   "id": "5ae41ec2",
   "metadata": {},
   "outputs": [],
   "source": []
  }
 ],
 "metadata": {
  "kernelspec": {
   "display_name": "Python 3 (ipykernel)",
   "language": "python",
   "name": "python3"
  },
  "language_info": {
   "codemirror_mode": {
    "name": "ipython",
    "version": 3
   },
   "file_extension": ".py",
   "mimetype": "text/x-python",
   "name": "python",
   "nbconvert_exporter": "python",
   "pygments_lexer": "ipython3",
   "version": "3.9.5"
  }
 },
 "nbformat": 4,
 "nbformat_minor": 5
}
